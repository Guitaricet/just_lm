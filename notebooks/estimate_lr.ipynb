{
 "cells": [
  {
   "cell_type": "code",
   "execution_count": 9,
   "metadata": {},
   "outputs": [],
   "source": [
    "import jax\n",
    "import jax.numpy as jnp\n",
    "import jax.random as random\n",
    "import flax\n",
    "from transformers import FlaxAutoModel"
   ]
  },
  {
   "cell_type": "code",
   "execution_count": 5,
   "metadata": {},
   "outputs": [
    {
     "name": "stderr",
     "output_type": "stream",
     "text": [
      "Downloading: 100%|██████████| 475M/475M [00:15<00:00, 31.7MB/s] \n",
      "WARNING:absl:No GPU/TPU found, falling back to CPU. (Set TF_CPP_MIN_LOG_LEVEL=0 and rerun for more info.)\n"
     ]
    }
   ],
   "source": [
    "model = FlaxAutoModel.from_pretrained(\"gpt2\")"
   ]
  },
  {
   "cell_type": "code",
   "execution_count": 64,
   "metadata": {},
   "outputs": [
    {
     "name": "stdout",
     "output_type": "stream",
     "text": [
      "Model params: 124.44M\n",
      "Emb params: 39.38M\n",
      "Model non-emb params: 85.06M\n",
      "Learning rate: 6.388132e-04\n"
     ]
    }
   ],
   "source": [
    "model_params, tree_struct = jax.tree_flatten(jax.tree_map(lambda x: x.size, model.params))\n",
    "model_params = sum(model_params)\n",
    "print(f\"Model params: {(model_params / 10**6):.2f}M\")\n",
    "\n",
    "emb_params, _ = jax.tree_flatten(jax.tree_map(\n",
    "    lambda x: x.size,\n",
    "    {\"wpe\": model.params[\"wpe\"], \"wte\": model.params[\"wte\"]}\n",
    "))\n",
    "emb_params = sum(emb_params)\n",
    "\n",
    "print(f\"Emb params: {(emb_params / 10**6):.2f}M\")\n",
    "\n",
    "print(f\"Model non-emb params: {(model_params - emb_params) / 10**6:.2f}M\")\n",
    "\n",
    "# LR(N ) ≈ 0.003239 + −0.0001395 log(N ) (D.1)\n",
    "lr = 0.003239 + (-0.0001395) * jnp.log(model_params)\n",
    "print(f\"Learning rate: {lr:e}\")"
   ]
  },
  {
   "cell_type": "code",
   "execution_count": null,
   "metadata": {},
   "outputs": [],
   "source": []
  }
 ],
 "metadata": {
  "interpreter": {
   "hash": "d4a32cbf00f53ba335ed9e6638bd66ec4230a0840bc1a58af52fa73758afcf80"
  },
  "kernelspec": {
   "display_name": "Python 3.10.3 ('just_lm')",
   "language": "python",
   "name": "python3"
  },
  "language_info": {
   "codemirror_mode": {
    "name": "ipython",
    "version": 3
   },
   "file_extension": ".py",
   "mimetype": "text/x-python",
   "name": "python",
   "nbconvert_exporter": "python",
   "pygments_lexer": "ipython3",
   "version": "3.10.3"
  },
  "orig_nbformat": 4
 },
 "nbformat": 4,
 "nbformat_minor": 2
}
